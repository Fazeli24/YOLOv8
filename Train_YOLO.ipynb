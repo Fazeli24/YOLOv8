{
  "cells": [
    {
      "cell_type": "markdown",
      "metadata": {
        "id": "1sUfcA8ZgR2t"
      },
      "source": [
        "# Introduction\n",
        "\n",
        "Disclaimer:\n",
        "This Notebook is inspired by the great notebook by Evan Juras.\n",
        "You can find the original jupyter book here: (https://github.com/EdjeElectronics/Train-and-Deploy-YOLO-Models)\n",
        "\n",
        "This notebook shows you how to train your own YOLOv8 Object detection model and export it for the IMX500 Sensor (e.g. for the Raspberry Pi AI Camera).\n",
        "\n",
        "\n",
        "### How to use Colab\n",
        "Colab is a tool by Google, that allows you to use High End GPUs and TPUs to train and convert AI models fast. It creates a virtual machine in your browser complete with a Linux OS, filesystem and Python environment. You can click the play buttons to excecute code.\n",
        "\n",
        "\n",
        "\n",
        "\n"
      ]
    },
    {
      "cell_type": "markdown",
      "source": [
        "**Connect to VM**\n",
        "\n",
        "Connect to the Virtual machine in the top right corner. Change the Type from CPU to GPU (e.g. T4)"
      ],
      "metadata": {
        "id": "3NW7LLv_QPOO"
      }
    },
    {
      "cell_type": "markdown",
      "source": [
        "#Before you start\n",
        "\n",
        "This tutorial is based on images labeled with Label-Studio.\n",
        "If you use a different labeling software, ensure your labeled data is in the following structure:\n",
        "\n",
        "An \"images\" folder containing the images\n",
        "A \"labels\" folder containing the labels in YOLO annotation format\n",
        "A classes.txt labelmap file that contains all the classes\n",
        "A notes.json file that contains info specific to Label Studio (this file can be ignored)"
      ],
      "metadata": {
        "id": "M-DchbrZsStN"
      }
    },
    {
      "cell_type": "markdown",
      "source": [
        "# Upload your images"
      ],
      "metadata": {
        "id": "m7Iz9eBzW5zm"
      }
    },
    {
      "cell_type": "markdown",
      "source": [
        "Zip your labled images and name the file data (data.zip is the final name)\n",
        "The data.zip folder should have the following structure and names:\n",
        "data.zip\n",
        "- images\n",
        "- labels\n",
        "- classes.txt\n",
        "- (notes.json)"
      ],
      "metadata": {
        "id": "L0dBNEiAad3q"
      }
    },
    {
      "cell_type": "markdown",
      "source": [
        "Upload you zipped labeled images into the file directionary\n",
        "\n",
        "![image.png](data:image/png;base64,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)\n"
      ],
      "metadata": {
        "id": "58JuFGc2PatU"
      }
    },
    {
      "cell_type": "code",
      "execution_count": null,
      "metadata": {
        "id": "z8O6z-wVcPEF"
      },
      "outputs": [],
      "source": [
        "# Unzip images to a custom data folder\n",
        "!unzip -q /content/data.zip -d /content/custom_data"
      ]
    },
    {
      "cell_type": "markdown",
      "source": [
        "For training, you need the images(and label files) sorted into two folders: Training and Validation. Use the code below to automaticaly and randomly split your dataset. You can choose the percentage for the split with the \"--train_pct\" parameter"
      ],
      "metadata": {
        "id": "eoPjqW6AYebn"
      }
    },
    {
      "cell_type": "code",
      "source": [
        "!wget -O /content/train_val_split.py https://raw.githubusercontent.com/EdjeElectronics/Train-and-Deploy-YOLO-Models/refs/heads/main/utils/train_val_split.py\n",
        "\n",
        "!python train_val_split.py --datapath=\"/content/custom_data\" --train_pct=0.9"
      ],
      "metadata": {
        "id": "8X62eFTugosf"
      },
      "execution_count": null,
      "outputs": []
    },
    {
      "cell_type": "markdown",
      "source": [
        "# 3.&nbsp;Install Ultralytics\n",
        "\n",
        "For training and exporting we use the Ultralytics toolkit. Install it with the command below"
      ],
      "metadata": {
        "id": "B2L2qGCJzwY9"
      }
    },
    {
      "cell_type": "code",
      "source": [
        "!pip install ultralytics"
      ],
      "metadata": {
        "id": "EMEDk5byzxY5"
      },
      "execution_count": null,
      "outputs": []
    },
    {
      "cell_type": "markdown",
      "metadata": {
        "id": "cuZoMkSFN9XG"
      },
      "source": [
        "# 4.&nbsp;Configure Training\n"
      ]
    },
    {
      "cell_type": "markdown",
      "source": [],
      "metadata": {
        "id": "595B3GsZAV3L"
      }
    },
    {
      "cell_type": "markdown",
      "source": [
        "Now you only have to create a .yaml file, that stores all the different classes and paths to the validation and training files."
      ],
      "metadata": {
        "id": "0c5Kdh0GmQHS"
      }
    },
    {
      "cell_type": "code",
      "source": [
        "# Python function to automatically create data.yaml config file\n",
        "# 1. Reads \"classes.txt\" file to get list of class names\n",
        "# 2. Creates data dictionary with correct paths to folders, number of classes, and names of classes\n",
        "# 3. Writes data in YAML format to data.yaml\n",
        "\n",
        "import yaml\n",
        "import os\n",
        "\n",
        "def create_data_yaml(path_to_classes_txt, path_to_data_yaml):\n",
        "\n",
        "  # Read class.txt to get class names\n",
        "  if not os.path.exists(path_to_classes_txt):\n",
        "    print(f'classes.txt file not found! Please create a classes.txt labelmap and move it to {path_to_classes_txt}')\n",
        "    return\n",
        "  with open(path_to_classes_txt, 'r') as f:\n",
        "    classes = []\n",
        "    for line in f.readlines():\n",
        "      if len(line.strip()) == 0: continue\n",
        "      classes.append(line.strip())\n",
        "  number_of_classes = len(classes)\n",
        "\n",
        "  # Create data dictionary\n",
        "  data = {\n",
        "      'path': '/content/data',\n",
        "      'train': 'train/images',\n",
        "      'val': 'validation/images',\n",
        "      'nc': number_of_classes,\n",
        "      'names': classes\n",
        "  }\n",
        "\n",
        "  # Write data to YAML file\n",
        "  with open(path_to_data_yaml, 'w') as f:\n",
        "    yaml.dump(data, f, sort_keys=False)\n",
        "  print(f'Created config file at {path_to_data_yaml}')\n",
        "\n",
        "  return\n",
        "\n",
        "# Define path to classes.txt and run function\n",
        "path_to_classes_txt = '/content/custom_data/classes.txt'\n",
        "path_to_data_yaml = '/content/data.yaml'\n",
        "\n",
        "create_data_yaml(path_to_classes_txt, path_to_data_yaml)\n",
        "\n",
        "print('\\nFile contents:\\n')\n",
        "!cat /content/data.yaml"
      ],
      "metadata": {
        "id": "4letvP7X12ji"
      },
      "execution_count": null,
      "outputs": []
    },
    {
      "cell_type": "markdown",
      "metadata": {
        "id": "myP80_bnTNMi"
      },
      "source": [
        "# 5.&nbsp;Train Model"
      ]
    },
    {
      "cell_type": "markdown",
      "source": [
        "## 5.1 Training Parameters\n",
        "After all the data is organized, were ready for training.\n",
        "Altough you could train yolov5 and yolo11 models, only yolov8 models are tested and recommended by us! There are different model sizes (n, s, m, x and xl). The IMX500 Sensor only supports **n**ano models.\n",
        "\n",
        "###Parameters:\n",
        "**Number of epochs (`epochs`)**\n",
        "The number of epochs is how often the training goes over the dataset. For smaller models(<200 Images) use 60 epochs. Otherwise, use 40 epochs.\n",
        "\n",
        "\n",
        "**Resolution (`imgsz`)**\n",
        "\n",
        "You can use the 640x640 resolution, it's what works best with the IMX500 Sensor and YOLOv8 Models. For faster models, you can use the 320x320 resolution\n"
      ],
      "metadata": {
        "id": "DfKspYasCzC8"
      }
    },
    {
      "cell_type": "markdown",
      "source": [
        "## 5.2 Run Training"
      ],
      "metadata": {
        "id": "V17UjYU5ZQdR"
      }
    },
    {
      "cell_type": "markdown",
      "source": [
        "Run the following code block to begin training. If you want to use a different number of epochs, or resolution, change `model`, `epochs`, or `imgsz`."
      ],
      "metadata": {
        "id": "nQi_hXnUVPr-"
      }
    },
    {
      "cell_type": "code",
      "execution_count": null,
      "metadata": {
        "id": "8bbpob1gTPlo"
      },
      "outputs": [],
      "source": [
        "!yolo detect train data=/content/data.yaml model=yolov8n.pt epochs=60 imgsz=640"
      ]
    },
    {
      "cell_type": "markdown",
      "source": [
        "The Training might take some time, so don't quit it early, as it optimizes the model in the end"
      ],
      "metadata": {
        "id": "vv0EYWJ5V6mC"
      }
    },
    {
      "cell_type": "markdown",
      "metadata": {
        "id": "vo8BJRXeg0Ap"
      },
      "source": [
        "#6.&nbsp;Test Model"
      ]
    },
    {
      "cell_type": "markdown",
      "source": [
        "After successful training, you can test the model. It's stored under runs/detect/train/weights/best.pt"
      ],
      "metadata": {
        "id": "BX3PTrEPacGY"
      }
    },
    {
      "cell_type": "code",
      "execution_count": null,
      "metadata": {
        "id": "PooP5Vjsg2Jn"
      },
      "outputs": [],
      "source": [
        "!yolo detect predict model=runs/detect/train/weights/best.pt source=data/validation/images save=True"
      ]
    },
    {
      "cell_type": "code",
      "execution_count": null,
      "metadata": {
        "id": "zEEObQqoiGrs"
      },
      "outputs": [],
      "source": [
        "import glob\n",
        "from IPython.display import Image, display\n",
        "for image_path in glob.glob(f'/content/runs/detect/predict/*.jpg')[:66]:\n",
        "  display(Image(filename=image_path, height=400))\n",
        "  print('\\n')\n"
      ]
    },
    {
      "cell_type": "markdown",
      "source": [
        "The model now should draw boxes with confidence values around the objects. If the model isn't working as expected, make sure you labeled everything correctly and took good photos. You can also increase picture amount and epochs"
      ],
      "metadata": {
        "id": "EGiQw_gWbSBa"
      }
    },
    {
      "cell_type": "markdown",
      "metadata": {
        "id": "W7yrFRViVczX"
      },
      "source": [
        "#7.&nbsp;Deploy Model"
      ]
    },
    {
      "cell_type": "markdown",
      "source": [
        "If you're satisfied with the results, it's time for exporting it to the IMX500 Sensor. You have to install the MCT(Model compression Toolkit) by Sony. Also, install all other plugins below"
      ],
      "metadata": {
        "id": "FEtybPmB_ERi"
      }
    },
    {
      "cell_type": "code",
      "source": [
        "!pip install model_compression_toolkit"
      ],
      "metadata": {
        "id": "0EN0nOcshk5E"
      },
      "execution_count": null,
      "outputs": []
    },
    {
      "cell_type": "code",
      "source": [
        "!pip install edge-mdt-tpc"
      ],
      "metadata": {
        "id": "g3vmOvE8j5ZD"
      },
      "execution_count": null,
      "outputs": []
    },
    {
      "cell_type": "code",
      "source": [
        "!pip install sony-custom-layers"
      ],
      "metadata": {
        "id": "hE2w_knLjpeR"
      },
      "execution_count": null,
      "outputs": []
    },
    {
      "cell_type": "code",
      "source": [
        "!pip install imx500-converter[pt]"
      ],
      "metadata": {
        "id": "5xPssqh9jhkQ"
      },
      "execution_count": null,
      "outputs": []
    },
    {
      "cell_type": "markdown",
      "source": [
        "Now that everything is installed correctly, you can run the PTQ(Post Training Quantization) and export for the IMX500 sensor(This will take some time)"
      ],
      "metadata": {
        "id": "PSXI8Z0FvwJK"
      }
    },
    {
      "cell_type": "code",
      "source": [
        "!wget -O /content/converter.py https://raw.githubusercontent.com/Fazeli24/YOLOv8/refs/heads/main/converter.py\n",
        "\n",
        "!python converter.py"
      ],
      "metadata": {
        "id": "EL--AHmjaF6w"
      },
      "execution_count": null,
      "outputs": []
    },
    {
      "cell_type": "markdown",
      "source": [
        "Move the resulting .zip file to your main directory:"
      ],
      "metadata": {
        "id": "HWy5H3dywHtd"
      }
    },
    {
      "cell_type": "code",
      "source": [
        "!mv runs/detect/train/weights/best_imx_model/packerOut.zip packerOut.zip"
      ],
      "metadata": {
        "id": "rqOfqoFa5Jxp"
      },
      "execution_count": null,
      "outputs": []
    },
    {
      "cell_type": "markdown",
      "source": [
        "You can now download the packagerOut.zip file from the left file bar"
      ],
      "metadata": {
        "id": "6-HxgItAwN0D"
      }
    },
    {
      "cell_type": "markdown",
      "source": [
        "#Deployment\n",
        "Now you have a quantized model ready for deployment on your Sony AI Camera! For this last step, you need your Raspberry Pi (3-5). Move your packerOut.zip file to a directory of the pi.\n",
        "Start by installing the imx500 toolkit using the terminal:\n",
        "\n",
        "\n",
        "---\n",
        "\n",
        "\n",
        "\n",
        "####sudo apt install imx500-all imx500-tools\n",
        "\n",
        "\n",
        "\n",
        "\n",
        "then, convert the packerOut.zip file to a network.rpk file:\n",
        "\n",
        "\n",
        "\n",
        "####imx500-package -i path/to/packerOut.zip -o path/to/output/folder\n",
        "\n",
        "\n",
        "---\n",
        "\n",
        "\n",
        "\n",
        "Replace \"path/to/packerOut.zip\" with you path to the packerOut.zip file and \"path/to/output/folder\" to your chosen output folder.\n",
        "\n",
        "You now have a completly converted and quantized model file to run on your IMX500 Sensor."
      ],
      "metadata": {
        "id": "7M2vtQokw6CA"
      }
    }
  ],
  "metadata": {
    "colab": {
      "provenance": [],
      "gpuType": "T4"
    },
    "kernelspec": {
      "display_name": "Python 3",
      "name": "python3"
    },
    "language_info": {
      "name": "python"
    },
    "accelerator": "GPU"
  },
  "nbformat": 4,
  "nbformat_minor": 0
}